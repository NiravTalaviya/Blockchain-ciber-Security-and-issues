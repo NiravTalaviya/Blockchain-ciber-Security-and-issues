{
 "cells": [
  {
   "cell_type": "code",
   "execution_count": 17,
   "metadata": {},
   "outputs": [],
   "source": [
    "import os\n",
    "import numpy as np\n",
    "import cv2\n",
    "import math\n",
    "import matplotlib.pyplot as plt"
   ]
  },
  {
   "cell_type": "code",
   "execution_count": 19,
   "metadata": {},
   "outputs": [],
   "source": [
    "path = './Set14/hr/'\n",
    "files = os.listdir(path)\n",
    "files_bmp = [f for f in files if f.endswith('.bmp')]\n",
    "\n",
    "for (i, file) in enumerate(files_bmp):\n",
    "    img = cv2.imread(path + file)\n",
    "    cv2.imwrite(path + 'I_'+ str(i) +'.jpg',img )\n",
    "    plt.figure()\n",
    "    plt.imshow(img)\n",
    "    \n",
    "    \n",
    "for (i, file) in enumerate(files_bmp):\n",
    "    os.remove(path + file)\n",
    "    \n",
    "files_jpg = [f for f in files if f.endswith('.jpg')]\n",
    "path_4 = './Set14/lr_4/'\n",
    "\n",
    "for (i, file) in enumerate(files_jpg):\n",
    "    img = cv2.imread(path + file)\n",
    "    size=img.shape\n",
    "    SR_Factor = 1/4\n",
    "    outsize=(math.floor(size[1]*SR_Factor),math.floor(size[0]*SR_Factor))\n",
    "    img = cv2.resize(img,outsize)\n",
    "    cv2.imwrite(path_4 + 'I_'+ str(i) +'.jpg',img )\n",
    "    \n"
   ]
  }
 ],
 "metadata": {
  "kernelspec": {
   "display_name": "Python 3",
   "language": "python",
   "name": "python3"
  },
  "language_info": {
   "codemirror_mode": {
    "name": "ipython",
    "version": 3
   },
   "file_extension": ".py",
   "mimetype": "text/x-python",
   "name": "python",
   "nbconvert_exporter": "python",
   "pygments_lexer": "ipython3",
   "version": "3.7.3"
  }
 },
 "nbformat": 4,
 "nbformat_minor": 2
}
